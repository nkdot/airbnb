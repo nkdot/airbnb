{
 "cells": [
  {
   "cell_type": "code",
   "execution_count": 66,
   "id": "c796d5c5",
   "metadata": {},
   "outputs": [],
   "source": [
    "import pandas as pd\n",
    "import numpy as np\n",
    "import matplotlib.pyplot as plt\n",
    "import seaborn as sns\n",
    "\n",
    "import sklearn\n",
    "from sklearn import preprocessing\n",
    "from sklearn.model_selection import train_test_split\n",
    "from sklearn.metrics import accuracy_score, confusion_matrix, mean_squared_error,classification_report, roc_curve \n",
    "\n",
    "import re\n",
    "from functools import reduce\n",
    "from collections import Counter\n",
    "\n",
    "pd.set_option('display.max_rows',None)\n",
    "pd.set_option('display.max_columns',None)\n",
    "\n",
    "%matplotlib inline"
   ]
  },
  {
   "cell_type": "code",
   "execution_count": 67,
   "id": "cade28ba",
   "metadata": {},
   "outputs": [],
   "source": [
    "encoded_data=get_n_dummies()"
   ]
  },
  {
   "cell_type": "code",
   "execution_count": 97,
   "id": "d0ae3e39",
   "metadata": {},
   "outputs": [
    {
     "data": {
      "text/plain": [
       "((4438, 74), (1902, 74))"
      ]
     },
     "execution_count": 97,
     "metadata": {},
     "output_type": "execute_result"
    }
   ],
   "source": [
    "X=encoded_data.drop(['Success_rate'],axis=1)\n",
    "Y=round(encoded_data['Success_rate'],4)\n",
    "\n",
    "#train, valid & test test split\n",
    "X_train,X_valid,Y_train,Y_valid=train_test_split(X,Y,test_size=0.3,random_state=1)\n",
    "X_train.shape,X_valid.shape"
   ]
  },
  {
   "cell_type": "code",
   "execution_count": 98,
   "id": "b5519daa",
   "metadata": {},
   "outputs": [],
   "source": [
    "cols=X_train.columns\n",
    "scaler=preprocessing.MinMaxScaler()\n",
    "X_train=scaler.fit_transform(X_train)\n",
    "X_valid=scaler.transform(X_valid)\n",
    "X_train=pd.DataFrame(X_train,columns=cols)\n",
    "X_valid=pd.DataFrame(X_valid,columns=cols)"
   ]
  },
  {
   "cell_type": "code",
   "execution_count": 126,
   "id": "fdc40578",
   "metadata": {},
   "outputs": [],
   "source": [
    "#X_train.describe()"
   ]
  },
  {
   "cell_type": "markdown",
   "id": "57bb5e23",
   "metadata": {},
   "source": [
    "# DNN REGRESSION MODEL"
   ]
  },
  {
   "cell_type": "code",
   "execution_count": 148,
   "id": "325e4826",
   "metadata": {},
   "outputs": [
    {
     "name": "stdout",
     "output_type": "stream",
     "text": [
      "Model: \"sequential_19\"\n",
      "_________________________________________________________________\n",
      " Layer (type)                Output Shape              Param #   \n",
      "=================================================================\n",
      " dense_55 (Dense)            (None, 16)                1200      \n",
      "                                                                 \n",
      " dense_56 (Dense)            (None, 8)                 136       \n",
      "                                                                 \n",
      " dense_57 (Dense)            (None, 1)                 9         \n",
      "                                                                 \n",
      "=================================================================\n",
      "Total params: 1,345\n",
      "Trainable params: 1,345\n",
      "Non-trainable params: 0\n",
      "_________________________________________________________________\n"
     ]
    }
   ],
   "source": [
    "#sequential\n",
    "import tensorflow as tf\n",
    "from tensorflow import keras\n",
    "from keras.models import Sequential\n",
    "from keras.layers import Dense\n",
    "\n",
    "model=Sequential()\n",
    "model.add(Dense(16,input_dim=X_train.shape[1], activation='relu'))\n",
    "model.add(Dense(8,activation='relu',kernel_regularizer=tf.keras.regularizers.L1(0.01)))\n",
    "model.add(Dense(1,activation='sigmoid'))\n",
    "opt=tf.keras.optimizers.Adam(learning_rate=0.001)\n",
    "\n",
    "model.compile(loss='mae',optimizer=opt,metrics=[tf.keras.metrics.RootMeanSquaredError()])\n",
    "model.summary()"
   ]
  },
  {
   "cell_type": "code",
   "execution_count": 149,
   "id": "5250147a",
   "metadata": {},
   "outputs": [
    {
     "name": "stdout",
     "output_type": "stream",
     "text": [
      "Epoch 1/120\n",
      "139/139 - 5s - loss: 0.5656 - root_mean_squared_error: 0.3590 - val_loss: 0.4941 - val_root_mean_squared_error: 0.3502 - 5s/epoch - 38ms/step\n",
      "Epoch 2/120\n",
      "139/139 - 0s - loss: 0.4281 - root_mean_squared_error: 0.3406 - val_loss: 0.3890 - val_root_mean_squared_error: 0.3467 - 432ms/epoch - 3ms/step\n",
      "Epoch 3/120\n",
      "139/139 - 0s - loss: 0.3468 - root_mean_squared_error: 0.3399 - val_loss: 0.3311 - val_root_mean_squared_error: 0.3483 - 370ms/epoch - 3ms/step\n",
      "Epoch 4/120\n",
      "139/139 - 0s - loss: 0.3115 - root_mean_squared_error: 0.3406 - val_loss: 0.3157 - val_root_mean_squared_error: 0.3495 - 401ms/epoch - 3ms/step\n",
      "Epoch 5/120\n",
      "139/139 - 0s - loss: 0.3046 - root_mean_squared_error: 0.3409 - val_loss: 0.3114 - val_root_mean_squared_error: 0.3479 - 316ms/epoch - 2ms/step\n",
      "Epoch 6/120\n",
      "139/139 - 0s - loss: 0.3024 - root_mean_squared_error: 0.3407 - val_loss: 0.3079 - val_root_mean_squared_error: 0.3443 - 363ms/epoch - 3ms/step\n",
      "Epoch 7/120\n",
      "139/139 - 0s - loss: 0.3005 - root_mean_squared_error: 0.3400 - val_loss: 0.3046 - val_root_mean_squared_error: 0.3399 - 401ms/epoch - 3ms/step\n",
      "Epoch 8/120\n",
      "139/139 - 0s - loss: 0.2988 - root_mean_squared_error: 0.3393 - val_loss: 0.3028 - val_root_mean_squared_error: 0.3412 - 354ms/epoch - 3ms/step\n",
      "Epoch 9/120\n",
      "139/139 - 0s - loss: 0.2975 - root_mean_squared_error: 0.3383 - val_loss: 0.3010 - val_root_mean_squared_error: 0.3415 - 401ms/epoch - 3ms/step\n",
      "Epoch 10/120\n",
      "139/139 - 0s - loss: 0.2959 - root_mean_squared_error: 0.3380 - val_loss: 0.3012 - val_root_mean_squared_error: 0.3462 - 386ms/epoch - 3ms/step\n",
      "Epoch 11/120\n",
      "139/139 - 0s - loss: 0.2954 - root_mean_squared_error: 0.3379 - val_loss: 0.2983 - val_root_mean_squared_error: 0.3388 - 317ms/epoch - 2ms/step\n",
      "Epoch 12/120\n",
      "139/139 - 0s - loss: 0.2939 - root_mean_squared_error: 0.3360 - val_loss: 0.2986 - val_root_mean_squared_error: 0.3431 - 401ms/epoch - 3ms/step\n",
      "Epoch 13/120\n",
      "139/139 - 0s - loss: 0.2928 - root_mean_squared_error: 0.3361 - val_loss: 0.2983 - val_root_mean_squared_error: 0.3443 - 386ms/epoch - 3ms/step\n",
      "Epoch 14/120\n",
      "139/139 - 0s - loss: 0.2925 - root_mean_squared_error: 0.3365 - val_loss: 0.2949 - val_root_mean_squared_error: 0.3343 - 401ms/epoch - 3ms/step\n",
      "Epoch 15/120\n",
      "139/139 - 0s - loss: 0.2912 - root_mean_squared_error: 0.3351 - val_loss: 0.2945 - val_root_mean_squared_error: 0.3356 - 448ms/epoch - 3ms/step\n",
      "Epoch 16/120\n",
      "139/139 - 0s - loss: 0.2905 - root_mean_squared_error: 0.3339 - val_loss: 0.2931 - val_root_mean_squared_error: 0.3346 - 432ms/epoch - 3ms/step\n",
      "Epoch 17/120\n",
      "139/139 - 0s - loss: 0.2898 - root_mean_squared_error: 0.3341 - val_loss: 0.2925 - val_root_mean_squared_error: 0.3350 - 470ms/epoch - 3ms/step\n",
      "Epoch 18/120\n",
      "139/139 - 0s - loss: 0.2889 - root_mean_squared_error: 0.3331 - val_loss: 0.2922 - val_root_mean_squared_error: 0.3370 - 417ms/epoch - 3ms/step\n",
      "Epoch 19/120\n",
      "139/139 - 0s - loss: 0.2883 - root_mean_squared_error: 0.3323 - val_loss: 0.2906 - val_root_mean_squared_error: 0.3311 - 379ms/epoch - 3ms/step\n",
      "Epoch 20/120\n",
      "139/139 - 0s - loss: 0.2876 - root_mean_squared_error: 0.3318 - val_loss: 0.2902 - val_root_mean_squared_error: 0.3342 - 401ms/epoch - 3ms/step\n",
      "Epoch 21/120\n",
      "139/139 - 0s - loss: 0.2864 - root_mean_squared_error: 0.3313 - val_loss: 0.2887 - val_root_mean_squared_error: 0.3307 - 370ms/epoch - 3ms/step\n",
      "Epoch 22/120\n",
      "139/139 - 0s - loss: 0.2858 - root_mean_squared_error: 0.3315 - val_loss: 0.2881 - val_root_mean_squared_error: 0.3296 - 370ms/epoch - 3ms/step\n",
      "Epoch 23/120\n",
      "139/139 - 0s - loss: 0.2854 - root_mean_squared_error: 0.3302 - val_loss: 0.2885 - val_root_mean_squared_error: 0.3291 - 432ms/epoch - 3ms/step\n",
      "Epoch 24/120\n",
      "139/139 - 0s - loss: 0.2850 - root_mean_squared_error: 0.3297 - val_loss: 0.2864 - val_root_mean_squared_error: 0.3292 - 439ms/epoch - 3ms/step\n",
      "Epoch 25/120\n",
      "139/139 - 0s - loss: 0.2839 - root_mean_squared_error: 0.3292 - val_loss: 0.2858 - val_root_mean_squared_error: 0.3293 - 479ms/epoch - 3ms/step\n",
      "Epoch 26/120\n",
      "139/139 - 0s - loss: 0.2832 - root_mean_squared_error: 0.3295 - val_loss: 0.2858 - val_root_mean_squared_error: 0.3281 - 423ms/epoch - 3ms/step\n",
      "Epoch 27/120\n",
      "139/139 - 0s - loss: 0.2828 - root_mean_squared_error: 0.3279 - val_loss: 0.2851 - val_root_mean_squared_error: 0.3293 - 485ms/epoch - 3ms/step\n",
      "Epoch 28/120\n",
      "139/139 - 0s - loss: 0.2819 - root_mean_squared_error: 0.3278 - val_loss: 0.2841 - val_root_mean_squared_error: 0.3301 - 432ms/epoch - 3ms/step\n",
      "Epoch 29/120\n",
      "139/139 - 0s - loss: 0.2813 - root_mean_squared_error: 0.3278 - val_loss: 0.2839 - val_root_mean_squared_error: 0.3296 - 432ms/epoch - 3ms/step\n",
      "Epoch 30/120\n",
      "139/139 - 0s - loss: 0.2809 - root_mean_squared_error: 0.3270 - val_loss: 0.2825 - val_root_mean_squared_error: 0.3257 - 454ms/epoch - 3ms/step\n",
      "Epoch 31/120\n",
      "139/139 - 0s - loss: 0.2799 - root_mean_squared_error: 0.3268 - val_loss: 0.2840 - val_root_mean_squared_error: 0.3299 - 470ms/epoch - 3ms/step\n",
      "Epoch 32/120\n",
      "139/139 - 0s - loss: 0.2793 - root_mean_squared_error: 0.3262 - val_loss: 0.2812 - val_root_mean_squared_error: 0.3258 - 448ms/epoch - 3ms/step\n",
      "Epoch 33/120\n",
      "139/139 - 0s - loss: 0.2790 - root_mean_squared_error: 0.3258 - val_loss: 0.2824 - val_root_mean_squared_error: 0.3292 - 432ms/epoch - 3ms/step\n",
      "Epoch 34/120\n",
      "139/139 - 0s - loss: 0.2782 - root_mean_squared_error: 0.3254 - val_loss: 0.2831 - val_root_mean_squared_error: 0.3312 - 423ms/epoch - 3ms/step\n",
      "Epoch 35/120\n",
      "139/139 - 0s - loss: 0.2780 - root_mean_squared_error: 0.3246 - val_loss: 0.2821 - val_root_mean_squared_error: 0.3291 - 486ms/epoch - 3ms/step\n",
      "Epoch 36/120\n",
      "139/139 - 0s - loss: 0.2775 - root_mean_squared_error: 0.3246 - val_loss: 0.2797 - val_root_mean_squared_error: 0.3253 - 432ms/epoch - 3ms/step\n",
      "Epoch 37/120\n",
      "139/139 - 0s - loss: 0.2771 - root_mean_squared_error: 0.3240 - val_loss: 0.2807 - val_root_mean_squared_error: 0.3273 - 448ms/epoch - 3ms/step\n",
      "Epoch 38/120\n",
      "139/139 - 0s - loss: 0.2765 - root_mean_squared_error: 0.3231 - val_loss: 0.2786 - val_root_mean_squared_error: 0.3249 - 470ms/epoch - 3ms/step\n",
      "Epoch 39/120\n",
      "139/139 - 0s - loss: 0.2762 - root_mean_squared_error: 0.3234 - val_loss: 0.2794 - val_root_mean_squared_error: 0.3256 - 486ms/epoch - 3ms/step\n",
      "Epoch 40/120\n",
      "139/139 - 0s - loss: 0.2753 - root_mean_squared_error: 0.3227 - val_loss: 0.2772 - val_root_mean_squared_error: 0.3237 - 432ms/epoch - 3ms/step\n",
      "Epoch 41/120\n",
      "139/139 - 1s - loss: 0.2754 - root_mean_squared_error: 0.3225 - val_loss: 0.2788 - val_root_mean_squared_error: 0.3264 - 501ms/epoch - 4ms/step\n",
      "Epoch 42/120\n",
      "139/139 - 0s - loss: 0.2749 - root_mean_squared_error: 0.3230 - val_loss: 0.2775 - val_root_mean_squared_error: 0.3236 - 450ms/epoch - 3ms/step\n",
      "Epoch 43/120\n",
      "139/139 - 0s - loss: 0.2743 - root_mean_squared_error: 0.3221 - val_loss: 0.2768 - val_root_mean_squared_error: 0.3226 - 470ms/epoch - 3ms/step\n",
      "Epoch 44/120\n",
      "139/139 - 0s - loss: 0.2738 - root_mean_squared_error: 0.3210 - val_loss: 0.2765 - val_root_mean_squared_error: 0.3232 - 448ms/epoch - 3ms/step\n",
      "Epoch 45/120\n",
      "139/139 - 0s - loss: 0.2739 - root_mean_squared_error: 0.3219 - val_loss: 0.2760 - val_root_mean_squared_error: 0.3227 - 470ms/epoch - 3ms/step\n",
      "Epoch 46/120\n",
      "139/139 - 0s - loss: 0.2734 - root_mean_squared_error: 0.3214 - val_loss: 0.2768 - val_root_mean_squared_error: 0.3243 - 417ms/epoch - 3ms/step\n",
      "Epoch 47/120\n",
      "139/139 - 0s - loss: 0.2728 - root_mean_squared_error: 0.3214 - val_loss: 0.2759 - val_root_mean_squared_error: 0.3230 - 470ms/epoch - 3ms/step\n",
      "Epoch 48/120\n",
      "139/139 - 0s - loss: 0.2722 - root_mean_squared_error: 0.3206 - val_loss: 0.2765 - val_root_mean_squared_error: 0.3242 - 464ms/epoch - 3ms/step\n",
      "Epoch 49/120\n",
      "139/139 - 0s - loss: 0.2719 - root_mean_squared_error: 0.3202 - val_loss: 0.2751 - val_root_mean_squared_error: 0.3230 - 470ms/epoch - 3ms/step\n",
      "Epoch 50/120\n",
      "139/139 - 0s - loss: 0.2719 - root_mean_squared_error: 0.3210 - val_loss: 0.2748 - val_root_mean_squared_error: 0.3215 - 417ms/epoch - 3ms/step\n",
      "Epoch 51/120\n",
      "139/139 - 0s - loss: 0.2713 - root_mean_squared_error: 0.3203 - val_loss: 0.2749 - val_root_mean_squared_error: 0.3210 - 423ms/epoch - 3ms/step\n",
      "Epoch 52/120\n",
      "139/139 - 0s - loss: 0.2712 - root_mean_squared_error: 0.3200 - val_loss: 0.2748 - val_root_mean_squared_error: 0.3228 - 464ms/epoch - 3ms/step\n",
      "Epoch 53/120\n",
      "139/139 - 0s - loss: 0.2709 - root_mean_squared_error: 0.3204 - val_loss: 0.2741 - val_root_mean_squared_error: 0.3209 - 478ms/epoch - 3ms/step\n"
     ]
    },
    {
     "name": "stdout",
     "output_type": "stream",
     "text": [
      "Epoch 54/120\n",
      "139/139 - 0s - loss: 0.2705 - root_mean_squared_error: 0.3191 - val_loss: 0.2777 - val_root_mean_squared_error: 0.3280 - 424ms/epoch - 3ms/step\n",
      "Epoch 55/120\n",
      "139/139 - 0s - loss: 0.2703 - root_mean_squared_error: 0.3198 - val_loss: 0.2736 - val_root_mean_squared_error: 0.3232 - 401ms/epoch - 3ms/step\n",
      "Epoch 56/120\n",
      "139/139 - 0s - loss: 0.2694 - root_mean_squared_error: 0.3199 - val_loss: 0.2768 - val_root_mean_squared_error: 0.3257 - 386ms/epoch - 3ms/step\n",
      "Epoch 57/120\n",
      "139/139 - 0s - loss: 0.2693 - root_mean_squared_error: 0.3188 - val_loss: 0.2730 - val_root_mean_squared_error: 0.3210 - 354ms/epoch - 3ms/step\n",
      "Epoch 58/120\n",
      "139/139 - 0s - loss: 0.2688 - root_mean_squared_error: 0.3195 - val_loss: 0.2735 - val_root_mean_squared_error: 0.3203 - 348ms/epoch - 3ms/step\n",
      "Epoch 59/120\n",
      "139/139 - 0s - loss: 0.2688 - root_mean_squared_error: 0.3186 - val_loss: 0.2725 - val_root_mean_squared_error: 0.3223 - 317ms/epoch - 2ms/step\n",
      "Epoch 60/120\n",
      "139/139 - 0s - loss: 0.2687 - root_mean_squared_error: 0.3189 - val_loss: 0.2730 - val_root_mean_squared_error: 0.3220 - 423ms/epoch - 3ms/step\n",
      "Epoch 61/120\n",
      "139/139 - 0s - loss: 0.2683 - root_mean_squared_error: 0.3187 - val_loss: 0.2735 - val_root_mean_squared_error: 0.3230 - 470ms/epoch - 3ms/step\n",
      "Epoch 62/120\n",
      "139/139 - 0s - loss: 0.2678 - root_mean_squared_error: 0.3184 - val_loss: 0.2747 - val_root_mean_squared_error: 0.3246 - 479ms/epoch - 3ms/step\n",
      "Epoch 63/120\n",
      "139/139 - 0s - loss: 0.2677 - root_mean_squared_error: 0.3178 - val_loss: 0.2722 - val_root_mean_squared_error: 0.3205 - 455ms/epoch - 3ms/step\n",
      "Epoch 64/120\n",
      "139/139 - 0s - loss: 0.2673 - root_mean_squared_error: 0.3175 - val_loss: 0.2727 - val_root_mean_squared_error: 0.3217 - 448ms/epoch - 3ms/step\n",
      "Epoch 65/120\n",
      "139/139 - 0s - loss: 0.2672 - root_mean_squared_error: 0.3177 - val_loss: 0.2723 - val_root_mean_squared_error: 0.3202 - 470ms/epoch - 3ms/step\n",
      "Epoch 66/120\n",
      "139/139 - 0s - loss: 0.2670 - root_mean_squared_error: 0.3179 - val_loss: 0.2720 - val_root_mean_squared_error: 0.3212 - 454ms/epoch - 3ms/step\n",
      "Epoch 67/120\n",
      "139/139 - 0s - loss: 0.2662 - root_mean_squared_error: 0.3170 - val_loss: 0.2717 - val_root_mean_squared_error: 0.3202 - 486ms/epoch - 3ms/step\n",
      "Epoch 68/120\n",
      "139/139 - 0s - loss: 0.2667 - root_mean_squared_error: 0.3182 - val_loss: 0.2724 - val_root_mean_squared_error: 0.3213 - 448ms/epoch - 3ms/step\n",
      "Epoch 69/120\n",
      "139/139 - 0s - loss: 0.2660 - root_mean_squared_error: 0.3162 - val_loss: 0.2709 - val_root_mean_squared_error: 0.3200 - 439ms/epoch - 3ms/step\n",
      "Epoch 70/120\n",
      "139/139 - 0s - loss: 0.2655 - root_mean_squared_error: 0.3165 - val_loss: 0.2711 - val_root_mean_squared_error: 0.3203 - 464ms/epoch - 3ms/step\n",
      "Epoch 71/120\n",
      "139/139 - 0s - loss: 0.2654 - root_mean_squared_error: 0.3172 - val_loss: 0.2713 - val_root_mean_squared_error: 0.3192 - 439ms/epoch - 3ms/step\n",
      "Epoch 72/120\n",
      "139/139 - 0s - loss: 0.2650 - root_mean_squared_error: 0.3158 - val_loss: 0.2708 - val_root_mean_squared_error: 0.3200 - 457ms/epoch - 3ms/step\n",
      "Epoch 73/120\n",
      "139/139 - 0s - loss: 0.2646 - root_mean_squared_error: 0.3157 - val_loss: 0.2708 - val_root_mean_squared_error: 0.3196 - 477ms/epoch - 3ms/step\n",
      "Epoch 74/120\n",
      "139/139 - 0s - loss: 0.2646 - root_mean_squared_error: 0.3158 - val_loss: 0.2716 - val_root_mean_squared_error: 0.3205 - 470ms/epoch - 3ms/step\n",
      "Epoch 75/120\n",
      "139/139 - 0s - loss: 0.2642 - root_mean_squared_error: 0.3155 - val_loss: 0.2708 - val_root_mean_squared_error: 0.3194 - 464ms/epoch - 3ms/step\n",
      "Epoch 76/120\n",
      "139/139 - 0s - loss: 0.2639 - root_mean_squared_error: 0.3146 - val_loss: 0.2705 - val_root_mean_squared_error: 0.3203 - 423ms/epoch - 3ms/step\n",
      "Epoch 77/120\n",
      "139/139 - 1s - loss: 0.2639 - root_mean_squared_error: 0.3148 - val_loss: 0.2712 - val_root_mean_squared_error: 0.3208 - 501ms/epoch - 4ms/step\n",
      "Epoch 78/120\n",
      "139/139 - 0s - loss: 0.2634 - root_mean_squared_error: 0.3149 - val_loss: 0.2703 - val_root_mean_squared_error: 0.3189 - 417ms/epoch - 3ms/step\n",
      "Epoch 79/120\n",
      "139/139 - 0s - loss: 0.2629 - root_mean_squared_error: 0.3142 - val_loss: 0.2700 - val_root_mean_squared_error: 0.3187 - 448ms/epoch - 3ms/step\n",
      "Epoch 80/120\n",
      "139/139 - 0s - loss: 0.2630 - root_mean_squared_error: 0.3143 - val_loss: 0.2695 - val_root_mean_squared_error: 0.3196 - 486ms/epoch - 3ms/step\n",
      "Epoch 81/120\n",
      "139/139 - 0s - loss: 0.2625 - root_mean_squared_error: 0.3143 - val_loss: 0.2701 - val_root_mean_squared_error: 0.3198 - 423ms/epoch - 3ms/step\n",
      "Epoch 82/120\n",
      "139/139 - 0s - loss: 0.2620 - root_mean_squared_error: 0.3132 - val_loss: 0.2701 - val_root_mean_squared_error: 0.3187 - 432ms/epoch - 3ms/step\n",
      "Epoch 83/120\n",
      "139/139 - 0s - loss: 0.2618 - root_mean_squared_error: 0.3131 - val_loss: 0.2695 - val_root_mean_squared_error: 0.3193 - 442ms/epoch - 3ms/step\n",
      "Epoch 84/120\n",
      "139/139 - 0s - loss: 0.2614 - root_mean_squared_error: 0.3123 - val_loss: 0.2700 - val_root_mean_squared_error: 0.3204 - 430ms/epoch - 3ms/step\n",
      "Epoch 85/120\n",
      "139/139 - 0s - loss: 0.2612 - root_mean_squared_error: 0.3125 - val_loss: 0.2692 - val_root_mean_squared_error: 0.3190 - 432ms/epoch - 3ms/step\n",
      "Epoch 86/120\n",
      "139/139 - 0s - loss: 0.2612 - root_mean_squared_error: 0.3131 - val_loss: 0.2713 - val_root_mean_squared_error: 0.3216 - 432ms/epoch - 3ms/step\n",
      "Epoch 87/120\n",
      "139/139 - 0s - loss: 0.2605 - root_mean_squared_error: 0.3111 - val_loss: 0.2689 - val_root_mean_squared_error: 0.3183 - 423ms/epoch - 3ms/step\n",
      "Epoch 88/120\n",
      "139/139 - 0s - loss: 0.2601 - root_mean_squared_error: 0.3119 - val_loss: 0.2705 - val_root_mean_squared_error: 0.3202 - 417ms/epoch - 3ms/step\n",
      "Epoch 89/120\n",
      "139/139 - 0s - loss: 0.2597 - root_mean_squared_error: 0.3106 - val_loss: 0.2698 - val_root_mean_squared_error: 0.3189 - 439ms/epoch - 3ms/step\n",
      "Epoch 90/120\n",
      "139/139 - 0s - loss: 0.2600 - root_mean_squared_error: 0.3112 - val_loss: 0.2691 - val_root_mean_squared_error: 0.3173 - 395ms/epoch - 3ms/step\n",
      "Epoch 91/120\n",
      "139/139 - 0s - loss: 0.2594 - root_mean_squared_error: 0.3099 - val_loss: 0.2696 - val_root_mean_squared_error: 0.3186 - 379ms/epoch - 3ms/step\n",
      "Epoch 92/120\n",
      "139/139 - 0s - loss: 0.2589 - root_mean_squared_error: 0.3102 - val_loss: 0.2693 - val_root_mean_squared_error: 0.3184 - 386ms/epoch - 3ms/step\n",
      "Epoch 93/120\n",
      "139/139 - 0s - loss: 0.2588 - root_mean_squared_error: 0.3102 - val_loss: 0.2680 - val_root_mean_squared_error: 0.3168 - 391ms/epoch - 3ms/step\n",
      "Epoch 94/120\n",
      "139/139 - 0s - loss: 0.2583 - root_mean_squared_error: 0.3096 - val_loss: 0.2687 - val_root_mean_squared_error: 0.3178 - 346ms/epoch - 2ms/step\n",
      "Epoch 95/120\n",
      "139/139 - 0s - loss: 0.2580 - root_mean_squared_error: 0.3091 - val_loss: 0.2685 - val_root_mean_squared_error: 0.3180 - 417ms/epoch - 3ms/step\n",
      "Epoch 96/120\n",
      "139/139 - 0s - loss: 0.2579 - root_mean_squared_error: 0.3094 - val_loss: 0.2680 - val_root_mean_squared_error: 0.3160 - 448ms/epoch - 3ms/step\n",
      "Epoch 97/120\n",
      "139/139 - 0s - loss: 0.2574 - root_mean_squared_error: 0.3090 - val_loss: 0.2679 - val_root_mean_squared_error: 0.3175 - 486ms/epoch - 3ms/step\n",
      "Epoch 98/120\n",
      "139/139 - 0s - loss: 0.2571 - root_mean_squared_error: 0.3091 - val_loss: 0.2683 - val_root_mean_squared_error: 0.3180 - 455ms/epoch - 3ms/step\n",
      "Epoch 99/120\n",
      "139/139 - 0s - loss: 0.2571 - root_mean_squared_error: 0.3089 - val_loss: 0.2677 - val_root_mean_squared_error: 0.3171 - 448ms/epoch - 3ms/step\n",
      "Epoch 100/120\n",
      "139/139 - 0s - loss: 0.2572 - root_mean_squared_error: 0.3088 - val_loss: 0.2682 - val_root_mean_squared_error: 0.3188 - 362ms/epoch - 3ms/step\n",
      "Epoch 101/120\n",
      "139/139 - 0s - loss: 0.2565 - root_mean_squared_error: 0.3085 - val_loss: 0.2672 - val_root_mean_squared_error: 0.3163 - 456ms/epoch - 3ms/step\n",
      "Epoch 102/120\n",
      "139/139 - 0s - loss: 0.2561 - root_mean_squared_error: 0.3076 - val_loss: 0.2671 - val_root_mean_squared_error: 0.3167 - 455ms/epoch - 3ms/step\n",
      "Epoch 103/120\n",
      "139/139 - 0s - loss: 0.2562 - root_mean_squared_error: 0.3076 - val_loss: 0.2670 - val_root_mean_squared_error: 0.3171 - 455ms/epoch - 3ms/step\n",
      "Epoch 104/120\n",
      "139/139 - 0s - loss: 0.2569 - root_mean_squared_error: 0.3081 - val_loss: 0.2667 - val_root_mean_squared_error: 0.3181 - 464ms/epoch - 3ms/step\n",
      "Epoch 105/120\n",
      "139/139 - 0s - loss: 0.2559 - root_mean_squared_error: 0.3082 - val_loss: 0.2672 - val_root_mean_squared_error: 0.3158 - 454ms/epoch - 3ms/step\n",
      "Epoch 106/120\n",
      "139/139 - 1s - loss: 0.2558 - root_mean_squared_error: 0.3075 - val_loss: 0.2663 - val_root_mean_squared_error: 0.3175 - 517ms/epoch - 4ms/step\n"
     ]
    },
    {
     "name": "stdout",
     "output_type": "stream",
     "text": [
      "Epoch 107/120\n",
      "139/139 - 0s - loss: 0.2551 - root_mean_squared_error: 0.3075 - val_loss: 0.2678 - val_root_mean_squared_error: 0.3181 - 417ms/epoch - 3ms/step\n",
      "Epoch 108/120\n",
      "139/139 - 0s - loss: 0.2553 - root_mean_squared_error: 0.3068 - val_loss: 0.2671 - val_root_mean_squared_error: 0.3181 - 432ms/epoch - 3ms/step\n",
      "Epoch 109/120\n",
      "139/139 - 0s - loss: 0.2554 - root_mean_squared_error: 0.3079 - val_loss: 0.2665 - val_root_mean_squared_error: 0.3159 - 439ms/epoch - 3ms/step\n",
      "Epoch 110/120\n",
      "139/139 - 0s - loss: 0.2552 - root_mean_squared_error: 0.3066 - val_loss: 0.2666 - val_root_mean_squared_error: 0.3174 - 332ms/epoch - 2ms/step\n",
      "Epoch 111/120\n",
      "139/139 - 0s - loss: 0.2544 - root_mean_squared_error: 0.3064 - val_loss: 0.2656 - val_root_mean_squared_error: 0.3168 - 370ms/epoch - 3ms/step\n",
      "Epoch 112/120\n",
      "139/139 - 0s - loss: 0.2548 - root_mean_squared_error: 0.3075 - val_loss: 0.2669 - val_root_mean_squared_error: 0.3181 - 386ms/epoch - 3ms/step\n",
      "Epoch 113/120\n",
      "139/139 - 0s - loss: 0.2541 - root_mean_squared_error: 0.3065 - val_loss: 0.2664 - val_root_mean_squared_error: 0.3166 - 417ms/epoch - 3ms/step\n",
      "Epoch 114/120\n",
      "139/139 - 0s - loss: 0.2538 - root_mean_squared_error: 0.3061 - val_loss: 0.2658 - val_root_mean_squared_error: 0.3165 - 432ms/epoch - 3ms/step\n",
      "Epoch 115/120\n",
      "139/139 - 0s - loss: 0.2536 - root_mean_squared_error: 0.3059 - val_loss: 0.2654 - val_root_mean_squared_error: 0.3159 - 401ms/epoch - 3ms/step\n",
      "Epoch 116/120\n",
      "139/139 - 0s - loss: 0.2536 - root_mean_squared_error: 0.3057 - val_loss: 0.2655 - val_root_mean_squared_error: 0.3164 - 386ms/epoch - 3ms/step\n",
      "Epoch 117/120\n",
      "139/139 - 0s - loss: 0.2533 - root_mean_squared_error: 0.3052 - val_loss: 0.2680 - val_root_mean_squared_error: 0.3197 - 385ms/epoch - 3ms/step\n",
      "Epoch 118/120\n",
      "139/139 - 0s - loss: 0.2532 - root_mean_squared_error: 0.3051 - val_loss: 0.2648 - val_root_mean_squared_error: 0.3161 - 464ms/epoch - 3ms/step\n",
      "Epoch 119/120\n",
      "139/139 - 0s - loss: 0.2525 - root_mean_squared_error: 0.3053 - val_loss: 0.2655 - val_root_mean_squared_error: 0.3165 - 401ms/epoch - 3ms/step\n",
      "Epoch 120/120\n",
      "139/139 - 0s - loss: 0.2525 - root_mean_squared_error: 0.3047 - val_loss: 0.2645 - val_root_mean_squared_error: 0.3161 - 432ms/epoch - 3ms/step\n"
     ]
    },
    {
     "data": {
      "text/plain": [
       "<keras.callbacks.History at 0x1a5b4db59c8>"
      ]
     },
     "execution_count": 149,
     "metadata": {},
     "output_type": "execute_result"
    }
   ],
   "source": [
    "model_history=model.fit(X_train,Y_train,epochs=120,batch_size=32,validation_data=(X_valid, Y_valid),verbose=2)\n",
    "model_history"
   ]
  },
  {
   "cell_type": "code",
   "execution_count": 120,
   "id": "428fd0b0",
   "metadata": {},
   "outputs": [],
   "source": [
    "#model_history.history['val_root_mean_squared_error']"
   ]
  },
  {
   "cell_type": "code",
   "execution_count": 150,
   "id": "22db1160",
   "metadata": {},
   "outputs": [
    {
     "data": {
      "image/png": "[encoded data removed]",
      "text/plain": [
       "<Figure size 432x288 with 1 Axes>"
      ]
     },
     "metadata": {
      "needs_background": "light"
     },
     "output_type": "display_data"
    }
   ],
   "source": [
    "from matplotlib import pyplot\n",
    "\n",
    "pyplot.title('Learning Curves')\n",
    "pyplot.xlabel('Epoch')\n",
    "pyplot.ylabel('MAE')\n",
    "pyplot.plot(model_history.history['loss'], label='train')\n",
    "pyplot.plot(model_history.history['val_loss'], label='val')\n",
    "pyplot.legend()\n",
    "pyplot.show()"
   ]
  },
  {
   "cell_type": "code",
   "execution_count": 151,
   "id": "92849175",
   "metadata": {},
   "outputs": [
    {
     "name": "stdout",
     "output_type": "stream",
     "text": [
      "60/60 - 0s - loss: 0.2645 - root_mean_squared_error: 0.3161 - 87ms/epoch - 1ms/step\n"
     ]
    }
   ],
   "source": [
    "eval1=model.evaluate(X_valid, Y_valid,verbose=2)"
   ]
  },
  {
   "cell_type": "code",
   "execution_count": 152,
   "id": "a26e42d1",
   "metadata": {},
   "outputs": [
    {
     "data": {
      "text/plain": [
       "[0.26447004079818726, 0.31613174080848694]"
      ]
     },
     "execution_count": 152,
     "metadata": {},
     "output_type": "execute_result"
    }
   ],
   "source": [
    "eval1"
   ]
  },
  {
   "cell_type": "markdown",
   "id": "7f548e5c",
   "metadata": {},
   "source": [
    "# SAVE & LOAD MODEL"
   ]
  },
  {
   "cell_type": "code",
   "execution_count": 153,
   "id": "3ce94409",
   "metadata": {},
   "outputs": [
    {
     "name": "stdout",
     "output_type": "stream",
     "text": [
      "Saved model to disk\n"
     ]
    }
   ],
   "source": [
    "# serialize model to JSON\n",
    "model_json = model.to_json()\n",
    "with open(\"model.json\", \"w\") as json_file:\n",
    "    json_file.write(model_json)\n",
    "# serialize weights to HDF5\n",
    "model.save_weights(\"model.h5\")\n",
    "print(\"Saved model to disk\")"
   ]
  },
  {
   "cell_type": "code",
   "execution_count": 154,
   "id": "579042bc",
   "metadata": {},
   "outputs": [
    {
     "name": "stdout",
     "output_type": "stream",
     "text": [
      "Loaded model from disk\n"
     ]
    }
   ],
   "source": [
    "# load json and create model\n",
    "from keras.models import model_from_json\n",
    "\n",
    "json_file = open('model.json', 'r')\n",
    "loaded_model_json = json_file.read()\n",
    "json_file.close()\n",
    "loaded_model = model_from_json(loaded_model_json)\n",
    "# load weights into new model\n",
    "loaded_model.load_weights(\"model.h5\")\n",
    "print(\"Loaded model from disk\")"
   ]
  },
  {
   "cell_type": "code",
   "execution_count": 155,
   "id": "a3b6e72e",
   "metadata": {},
   "outputs": [
    {
     "name": "stdout",
     "output_type": "stream",
     "text": [
      "root_mean_squared_error: 0.32 \n"
     ]
    }
   ],
   "source": [
    "# evaluate loaded model on test data\n",
    "loaded_model.compile(loss='mae', optimizer='adam', metrics=[tf.keras.metrics.RootMeanSquaredError()])\n",
    "score = loaded_model.evaluate(X_valid, Y_valid, verbose=0)\n",
    "print(\"%s: %.2f \" % (loaded_model.metrics_names[1], score[1]))"
   ]
  },
  {
   "cell_type": "code",
   "execution_count": 156,
   "id": "2958324d",
   "metadata": {},
   "outputs": [
    {
     "name": "stdout",
     "output_type": "stream",
     "text": [
      "mean_absolute_error: 0.25 \n"
     ]
    }
   ],
   "source": [
    "# evaluate loaded model on test data\n",
    "loaded_model.compile(loss='mae', optimizer='adam', metrics=[tf.keras.metrics.MeanAbsoluteError()])\n",
    "score = loaded_model.evaluate(X_valid, Y_valid, verbose=0)\n",
    "print(\"%s: %.2f \" % (loaded_model.metrics_names[1], score[1]))"
   ]
  }
 ],
 "metadata": {
  "kernelspec": {
   "display_name": "Python 3 (ipykernel)",
   "language": "python",
   "name": "python3"
  },
  "language_info": {
   "codemirror_mode": {
    "name": "ipython",
    "version": 3
   },
   "file_extension": ".py",
   "mimetype": "text/x-python",
   "name": "python",
   "nbconvert_exporter": "python",
   "pygments_lexer": "ipython3",
   "version": "3.7.11"
  }
 },
 "nbformat": 4,
 "nbformat_minor": 5
}
